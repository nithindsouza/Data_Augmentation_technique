{
  "nbformat": 4,
  "nbformat_minor": 0,
  "metadata": {
    "colab": {
      "name": "CNN_data_aug.ipynb",
      "provenance": [],
      "collapsed_sections": [],
      "authorship_tag": "ABX9TyMuc+gWUqOC7ko0MbU0mEev",
      "include_colab_link": true
    },
    "kernelspec": {
      "name": "python3",
      "display_name": "Python 3"
    },
    "language_info": {
      "name": "python"
    }
  },
  "cells": [
    {
      "cell_type": "markdown",
      "metadata": {
        "id": "view-in-github",
        "colab_type": "text"
      },
      "source": [
        "<a href=\"https://colab.research.google.com/github/nithindsouza/Data_Augmentation_technique/blob/main/CNN_data_aug.ipynb\" target=\"_parent\"><img src=\"https://colab.research.google.com/assets/colab-badge.svg\" alt=\"Open In Colab\"/></a>"
      ]
    },
    {
      "cell_type": "markdown",
      "metadata": {
        "id": "9IXWNtU5irR7"
      },
      "source": [
        "Apply **data augmentation** techniques(rotation, zoom, width shift , height shift and horizontal flip) for the following images.\n",
        "\n",
        "Dataset: [Image-Data](https://github.com/nithindsouza/CNN_data_aug_dataset)\n"
      ]
    },
    {
      "cell_type": "code",
      "metadata": {
        "id": "B9fjqd-Eoiqv"
      },
      "source": [
        "#required libraries\n",
        "import cv2\n",
        "import os\n",
        "from PIL import Image\n",
        "from glob import glob\n",
        "import numpy as np\n",
        "import matplotlib.pyplot as plt\n",
        "from skimage import io"
      ],
      "execution_count": null,
      "outputs": []
    },
    {
      "cell_type": "code",
      "metadata": {
        "id": "rnl0yawJi_-6"
      },
      "source": [
        "#Clone dataset into Google collab\n",
        "!git clone https://github.com/nithindsouza/CNN_data_aug_dataset.git"
      ],
      "execution_count": null,
      "outputs": []
    },
    {
      "cell_type": "code",
      "metadata": {
        "id": "qRKy1UOOsXm7"
      },
      "source": [
        "#assigning data to a variable\n",
        "img_data = '/content/CNN_data_aug_dataset/images/'\n",
        "aug_dir = '/content/CNN_data_aug_dataset/augmented/'"
      ],
      "execution_count": null,
      "outputs": []
    },
    {
      "cell_type": "code",
      "metadata": {
        "id": "5uTZU_n9llpm"
      },
      "source": [
        "#counting total number of images present\n",
        "print('total images:', len(os.listdir(img_data)))"
      ],
      "execution_count": null,
      "outputs": []
    },
    {
      "cell_type": "code",
      "metadata": {
        "id": "_dTHNhFqs48U"
      },
      "source": [
        "#viewing file names\n",
        "os.listdir(img_data)"
      ],
      "execution_count": null,
      "outputs": []
    },
    {
      "cell_type": "code",
      "metadata": {
        "id": "XI1f2JsVM1MW"
      },
      "source": [
        "#displaying all the images in a subplot\n",
        "\n",
        "# Put all images in the folder into a list\n",
        "def main():\n",
        "  images = []\n",
        "  for f in glob(img_data+\"/*jpg\"):\n",
        "      images.append(np.asarray(Image.open(f)))\n",
        "\n",
        "  for f in glob(aug_dir+\"/*jpg\"):\n",
        "    os.remove(f)\n",
        "\n",
        "  # plot the images\n",
        "  images = np.array(images)\n",
        "  fig, axs = plt.subplots(1, 7, figsize=(50, 50))\n",
        "  fig.subplots_adjust(hspace = .3, wspace=.3)\n",
        "  axs = axs.ravel()\n",
        "\n",
        "  #displaying the names\n",
        "  for filename in os.listdir(img_data):\n",
        "    imgName = filename[:-4]\n",
        "\n",
        "  # showing the filename as its title\n",
        "  i = 0\n",
        "  for filename in os.listdir(img_data):\n",
        "    imgName = filename[:-4]\n",
        "    axs[i].imshow(images[i])\n",
        "    axs[i].set_title(imgName)\n",
        "    i += 1\n",
        "if __name__ == '__main__':\n",
        "main()"
      ],
      "execution_count": null,
      "outputs": []
    },
    {
      "cell_type": "code",
      "metadata": {
        "id": "hZfG5zkYUg2X"
      },
      "source": [
        "#Data augmentation\n",
        "from tensorflow.keras.preprocessing.image import ImageDataGenerator , load_img\n",
        "\n",
        "datagen = ImageDataGenerator(rotation_range=40,\n",
        "                                   zoom_range=0.2,\n",
        "                                   width_shift_range=0.2,\n",
        "                                   height_shift_range=0.2,\n",
        "                                   horizontal_flip=True,\n",
        "                                   fill_mode = 'nearest')\n",
        "#Manually read each image and create an array to be supplied to datagen via flow method\n",
        "SIZE = 150\n",
        "dataset = []\n",
        "\n",
        "my_images = os.listdir(img_data)\n",
        "for i, image_name in enumerate(my_images):\n",
        "    if (image_name.split('.')[1] == 'jpg'):\n",
        "        image = io.imread(img_data + image_name)\n",
        "        image = Image.fromarray(image, 'RGB')\n",
        "        image = image.resize((SIZE,SIZE))\n",
        "        dataset.append(np.array(image))\n",
        "\n",
        "x = np.array(dataset)\n",
        "#x = x.reshape((1,) + x.shape)\n",
        "i = 0\n",
        "#clearing the folder to store augmented data\n",
        "for f in glob(aug_dir+\"/*jpg\"):\n",
        "  os.remove(f)\n",
        "\n",
        "for batch in datagen.flow(x, batch_size=1,  \n",
        "                          save_to_dir='/content/CNN_data_aug_dataset/augmented', \n",
        "                          save_prefix='aug', \n",
        "                          save_format='jpg'):\n",
        "    i += 1\n",
        "    if i > 20:\n",
        "        break  # otherwise the generator would loop indefinitely"
      ],
      "execution_count": null,
      "outputs": []
    },
    {
      "cell_type": "code",
      "metadata": {
        "id": "pqaTF7xl3Of9"
      },
      "source": [
        "#displaying all augmented images\n",
        "import glob\n",
        "import matplotlib.pyplot as plt\n",
        "import matplotlib.image as mpimg\n",
        "%matplotlib inline\n",
        "\n",
        "images = []\n",
        "for img_path in glob.glob(aug_dir+\"/*jpg\"):\n",
        "    images.append(mpimg.imread(img_path))\n",
        "\n",
        "plt.figure(figsize=(30,30))\n",
        "columns = 5\n",
        "for i, image in enumerate(images):\n",
        "    plt.subplot(len(images) / columns + 1, columns, i + 1)\n",
        "    plt.imshow(image)\n",
        "    plt.xticks([])\n",
        "    plt.yticks([])"
      ],
      "execution_count": null,
      "outputs": []
    }
  ]
}